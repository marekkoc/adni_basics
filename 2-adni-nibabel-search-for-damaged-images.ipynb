{
 "cells": [
  {
   "cell_type": "markdown",
   "metadata": {},
   "source": [
    "#### Search for broken Nifti images\n",
    "\n",
    "(C) MK & ASL & AL\n",
    "\n",
    "Created: 2019.11.11\n",
    "\n",
    "Modified: 2019.11.18"
   ]
  },
  {
   "cell_type": "code",
   "execution_count": 2,
   "metadata": {},
   "outputs": [],
   "source": [
    "import os\n",
    "import nibabel as nib"
   ]
  },
  {
   "cell_type": "markdown",
   "metadata": {},
   "source": [
    "###### Additional functions"
   ]
  },
  {
   "cell_type": "code",
   "execution_count": 3,
   "metadata": {},
   "outputs": [],
   "source": [
    "def list_2_txt(flist, savePath):\n",
    "    \"\"\"\n",
    "    Save list of Nifti image paths to a txt file.\n",
    "    \n",
    "    C: 2019.11.11\n",
    "    M: 2019.11.14\n",
    "    \"\"\"\n",
    "    with open(savePath, 'w') as f:\n",
    "        for item in flist:\n",
    "            f.write(\"%s\\n\" % item)\n",
    "    print('list saved to: %s' % savePath)"
   ]
  },
  {
   "cell_type": "markdown",
   "metadata": {},
   "source": [
    "A zipped file **ADNI-FS_preproc-all_merge_1.zip** was unzipped to the folder '../ADNI_from_Alexander/DownloadedNIfTI/ADNI'.\n",
    "\n",
    "There are 203 subject subfolders. In the following script all subfolders are gone through in order to find a Nifti image and load data. If this operation succeeds, a file name is appended to two lists: (i) with a healthy (full) path names and (ii) with a healthy names. If a file can't be opened its name is appended to lists with (iii) damaged (full) path names and (iv) damaged names.\n",
    "\n",
    "To this purpose 4 empty lists are created:\n",
    "1. *damPthLst* - a list for damaged file full paths,\n",
    "1. *damNamLst* - a list for damaged file names,\n",
    "1. *healPthLst* - a list with healthy file full paths,\n",
    "1. *healNamLst* - a list with healthy file names."
   ]
  },
  {
   "cell_type": "markdown",
   "metadata": {},
   "source": [
    "#### Main script "
   ]
  },
  {
   "cell_type": "code",
   "execution_count": 4,
   "metadata": {},
   "outputs": [
    {
     "name": "stdout",
     "output_type": "stream",
     "text": [
      "Data folder:\n",
      "\t/media/mk/p1ext4/no19/adni/ADNI_from_Alexander/DownloadedNIfTI/ADNI\n"
     ]
    }
   ],
   "source": [
    "# Folder with all Nifit images\n",
    "wFolder = os.path.join('/','media','mk','p1ext4','no19','adni','ADNI_from_Alexander','DownloadedNIfTI', 'ADNI')\n",
    "os.chdir(wFolder)\n",
    "print(\"Data folder:\\n\\t%s\"  % os.getcwd())"
   ]
  },
  {
   "cell_type": "code",
   "execution_count": 5,
   "metadata": {},
   "outputs": [
    {
     "name": "stdout",
     "output_type": "stream",
     "text": [
      "healty files: 1595\n",
      "damaged files: 2\n",
      "total: 1597\n"
     ]
    }
   ],
   "source": [
    "rootDir = '.'\n",
    "# counters\n",
    "healtyCnt = 0\n",
    "damegedCnt = 0\n",
    "# Lists \n",
    "damPthLst = []\n",
    "damNamLst = []\n",
    "healPthLst = []\n",
    "healNamLst = []\n",
    "\n",
    "\n",
    "k = 0\n",
    "for dirName, subdirList, fileList in os.walk(rootDir): \n",
    "    k +=1\n",
    "    for fname in fileList:\n",
    "        if fname.endswith('.nii'):\n",
    "            pth = os.path.join(dirName, fname)\n",
    "            try:\n",
    "                nii6 = nib.load(pth).get_data()\n",
    "                healPthLst.append(pth)\n",
    "                healNamLst.append(fname)\n",
    "                healtyCnt +=1 \n",
    "            except IOError:          \n",
    "                damPthLst.append(pth) \n",
    "                damNamLst.append(fname)\n",
    "                damegedCnt +=1  \n",
    "                \n",
    "print(\"healty files: %d\" % healtyCnt)\n",
    "print(\"damaged files: %d\" % damegedCnt)\n",
    "print('total: %d' % (healtyCnt + damegedCnt) )\n",
    "    "
   ]
  },
  {
   "cell_type": "markdown",
   "metadata": {},
   "source": [
    "##### List of all damged file names and full paths"
   ]
  },
  {
   "cell_type": "code",
   "execution_count": 6,
   "metadata": {},
   "outputs": [
    {
     "data": {
      "text/plain": [
       "['ADNI_005_S_0610_MR_MT1__GradWarp__N3m_Br_20120322171309195_S98457_I291917.nii',\n",
       " 'ADNI_018_S_4313_MR_MT1__N3m_Br_20111206110004548_S131107_I270069.nii']"
      ]
     },
     "execution_count": 6,
     "metadata": {},
     "output_type": "execute_result"
    }
   ],
   "source": [
    "# names\n",
    "damNamLst"
   ]
  },
  {
   "cell_type": "code",
   "execution_count": 7,
   "metadata": {},
   "outputs": [
    {
     "data": {
      "text/plain": [
       "['./005_S_0610/MT1__GradWarp__N3m/2011-01-27_13_42_12.0/S98457/ADNI_005_S_0610_MR_MT1__GradWarp__N3m_Br_20120322171309195_S98457_I291917.nii',\n",
       " './018_S_4313/MT1__N3m/2011-11-28_13_10_21.0/S131107/ADNI_018_S_4313_MR_MT1__N3m_Br_20111206110004548_S131107_I270069.nii']"
      ]
     },
     "execution_count": 7,
     "metadata": {},
     "output_type": "execute_result"
    }
   ],
   "source": [
    "# full paths\n",
    "damPthLst"
   ]
  },
  {
   "cell_type": "markdown",
   "metadata": {},
   "source": [
    "##### Save damage file names and full pahts to text files"
   ]
  },
  {
   "cell_type": "code",
   "execution_count": 8,
   "metadata": {},
   "outputs": [
    {
     "name": "stdout",
     "output_type": "stream",
     "text": [
      "list saved to: /media/mk/p1ext4/no19/adni/ADNI_from_Alexander/DownloadedNIfTI/ADNI/damaged-file-paths.txt\n",
      "list saved to: /media/mk/p1ext4/no19/adni/ADNI_from_Alexander/DownloadedNIfTI/ADNI/damaged-file-names.txt\n"
     ]
    }
   ],
   "source": [
    "dmgPthNames = 'damaged-file-paths.txt'\n",
    "dmgFileNames = 'damaged-file-names.txt'\n",
    "\n",
    "savePth1 = os.path.join(wFolder,dmgPthNames)\n",
    "list_2_txt(damPthLst, savePth1)\n",
    "\n",
    "savePth2 = os.path.join(wFolder,dmgFileNames)\n",
    "list_2_txt(damNamLst, savePth2)"
   ]
  },
  {
   "cell_type": "markdown",
   "metadata": {},
   "source": [
    "##### Open all damaged files with ITK-SNAP "
   ]
  },
  {
   "cell_type": "code",
   "execution_count": 9,
   "metadata": {},
   "outputs": [
    {
     "name": "stdout",
     "output_type": "stream",
     "text": [
      "Return code : 0\n",
      "Return code : 0\n"
     ]
    }
   ],
   "source": [
    "for f in damPthLst:\n",
    "    !itksnap $f"
   ]
  },
  {
   "cell_type": "markdown",
   "metadata": {},
   "source": [
    "##### Open first 5 healty files with ITK-SNAP"
   ]
  },
  {
   "cell_type": "code",
   "execution_count": 12,
   "metadata": {},
   "outputs": [
    {
     "name": "stdout",
     "output_type": "stream",
     "text": [
      "Return code : 0\n",
      "Return code : 0\n",
      "Return code : 0\n",
      "Return code : 0\n",
      "Return code : 0\n"
     ]
    }
   ],
   "source": [
    "for f in healPthLst[:5]:\n",
    "    !itksnap $f"
   ]
  }
 ],
 "metadata": {
  "kernelspec": {
   "display_name": "Python 3",
   "language": "python",
   "name": "python3"
  },
  "language_info": {
   "codemirror_mode": {
    "name": "ipython",
    "version": 3
   },
   "file_extension": ".py",
   "mimetype": "text/x-python",
   "name": "python",
   "nbconvert_exporter": "python",
   "pygments_lexer": "ipython3",
   "version": "3.7.1"
  }
 },
 "nbformat": 4,
 "nbformat_minor": 2
}
