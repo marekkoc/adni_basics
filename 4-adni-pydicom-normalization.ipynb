{
 "cells": [
  {
   "cell_type": "markdown",
   "metadata": {},
   "source": [
    "#### DICOM imgages\n",
    "(C) MK & ASL & AL\n",
    "\n",
    "Reads DICOM files, normalize them them\n",
    "\n",
    "\n",
    "Started: 2019.11.21\n",
    "\n",
    "Modified: 2019.11.21"
   ]
  },
  {
   "cell_type": "code",
   "execution_count": 135,
   "metadata": {},
   "outputs": [],
   "source": [
    "import os\n",
    "import numpy as np\n",
    "import pydicom as dicom\n",
    "import matplotlib.pyplot as plt\n",
    "\n",
    "# my imports\n",
    "import mkViewer2A as mkv\n",
    "import functions1 as f1\n",
    "\n",
    "%matplotlib qt5"
   ]
  },
  {
   "cell_type": "markdown",
   "metadata": {},
   "source": [
    "#### Main script"
   ]
  },
  {
   "cell_type": "code",
   "execution_count": 8,
   "metadata": {},
   "outputs": [
    {
     "name": "stdout",
     "output_type": "stream",
     "text": [
      "Current folder is:\n",
      "\t/media/mk/p1ext4/no19/adni/ADNI_from_Alexander/DownloadedNIfTI/ADNI\n"
     ]
    }
   ],
   "source": [
    "# Folder with all Nifit images\n",
    "adniPth = os.path.join('/','media','mk','p1ext4','no19','adni')\n",
    "adniMainPth = os.path.join(adniPth, 'ADNI_from_Alexander', 'DownloadedNIfTI')\n",
    "folder = os.path.join(adniMainPth, 'ADNI')\n",
    "\n",
    "dcm2npyPth = os.path.join(adniMainPth, 'DCM2NPY')\n",
    "statslPth = os.path.join(adniMainPth, 'STATSL')\n",
    "statim3dPth = os.path.join(adniMainPth, 'STATIM3D')\n",
    "\n",
    "# A global variable\n",
    "PRINT = False\n",
    "\n",
    "os.chdir(folder)\n",
    "f1.pthInfo()"
   ]
  },
  {
   "cell_type": "code",
   "execution_count": 33,
   "metadata": {},
   "outputs": [
    {
     "name": "stdout",
     "output_type": "stream",
     "text": [
      "Current folder is:\n",
      "\t/media/mk/p1ext4/no19/adni/ADNI_from_Alexander/DownloadedNIfTI/DCM2NPY\n",
      " 002_S_0295-S150056: min=0.00, aver=57.43,  max=1152.00, shape=(256, 256, 170),dtype=uint16\n"
     ]
    }
   ],
   "source": [
    "os.chdir(dcm2npyPth)\n",
    "im3d  = np.load('002_S_0295-S150056.npy')\n",
    "f1.pthInfo()\n",
    "f1.info(im,'002_S_0295-S150056')"
   ]
  },
  {
   "cell_type": "code",
   "execution_count": 75,
   "metadata": {},
   "outputs": [],
   "source": [
    "tracker = mkv.IndexTracker(im, 'gray', title='xzz', rot=False)"
   ]
  },
  {
   "cell_type": "code",
   "execution_count": 134,
   "metadata": {},
   "outputs": [
    {
     "name": "stdout",
     "output_type": "stream",
     "text": [
      "122/122\r"
     ]
    }
   ],
   "source": [
    "\n",
    "files = os.listdir('.')\n",
    "files.sort()\n",
    "\n",
    "fig, ax = plt.subplots(2,2, figsize=(14,8))\n",
    "plt.suptitle('Brightness values in each slice')\n",
    "plt.subplots_adjust(hspace=0.3)\n",
    "\n",
    "fCnt = 0\n",
    "fAllCnt = len(files)\n",
    "for f in files[:]:\n",
    "    fCnt +=1\n",
    "    print(\"{}/{}\".format(fCnt,fAllCnt), end='\\r')\n",
    "\n",
    "    \n",
    "    im = np.load(f)\n",
    "    sx,sy,sz = im.shape\n",
    "    \n",
    "    stat = np.zeros((sz,4), dtype=np.float32)\n",
    "    statN = np.zeros((sz,4), dtype=np.float32)\n",
    "    statS = np.zeros((sz,4), dtype=np.float32)\n",
    "    \n",
    "    \n",
    "    # normalization to <0,1>\n",
    "    imN = im/im.max()\n",
    "    imS = (im - im.mean()) / im.std()\n",
    "    #f1.info(im,f)\n",
    "    \n",
    "    for k in range(sz):\n",
    "        stat[k,:] = im[:,:,k].min(), im[:,:,k].max(), im[:,:,k].mean(), im[:,:,k].std()        \n",
    "        statN[k,:] = imN[:,:,k].min(), imN[:,:,k].max(), imN[:,:,k].mean(), imN[:,:,k].std()\n",
    "        statS[k,:] = imS[:,:,k].min(), imS[:,:,k].max(), imS[:,:,k].mean(), imS[:,:,k].std()  \n",
    "    \n",
    "           \n",
    "    stat11 = statS\n",
    "\n",
    "    mn = stat11[:,0]\n",
    "    mx = stat11[:,1]\n",
    "    av = stat11[:,2]\n",
    "    st = stat11[:,3]\n",
    "    \n",
    "    ax[0,0].plot(mn)\n",
    "    ax[0,0].axes.grid(True)\n",
    "    ax[0,0].set_title('min')   \n",
    "    ax[0,0].set_xlabel('#slice')\n",
    "    \n",
    "    ax[0,1].plot(mx)\n",
    "    ax[0,1].axes.grid(True)\n",
    "    ax[0,1].set_title('max')   \n",
    "    ax[0,1].set_xlabel('#slice')\n",
    "   \n",
    "    ax[1,0].plot(av)\n",
    "    ax[1,0].axes.grid(True)\n",
    "    ax[1,0].set_title('aver.') \n",
    "    ax[1,0].set_xlabel('#slice')\n",
    "    \n",
    "    ax[1,1].plot(st)\n",
    "    ax[1,1].axes.grid(True)\n",
    "    ax[1,1].set_title('std')\n",
    "    ax[1,1].set_xlabel('#slice')\n",
    "    "
   ]
  },
  {
   "cell_type": "code",
   "execution_count": 129,
   "metadata": {},
   "outputs": [],
   "source": [
    "# a,b = np.histogram(im3d.flatten())"
   ]
  },
  {
   "cell_type": "code",
   "execution_count": 130,
   "metadata": {},
   "outputs": [
    {
     "name": "stdout",
     "output_type": "stream",
     "text": [
      "4854120 11141120 6287000\n"
     ]
    }
   ],
   "source": [
    "b = im[im>0]\n",
    "print(b.size, im.size, im.size-b.size)"
   ]
  },
  {
   "cell_type": "code",
   "execution_count": 74,
   "metadata": {},
   "outputs": [],
   "source": [
    "n, bins, patches = plt.hist(b, 50, facecolor='g', alpha=0.75)"
   ]
  },
  {
   "cell_type": "code",
   "execution_count": 76,
   "metadata": {},
   "outputs": [],
   "source": [
    "a = np.random.randint(0,15,(4,5))\n",
    "b = a[a>6]"
   ]
  },
  {
   "cell_type": "code",
   "execution_count": null,
   "metadata": {},
   "outputs": [],
   "source": []
  }
 ],
 "metadata": {
  "kernelspec": {
   "display_name": "Python 3",
   "language": "python",
   "name": "python3"
  },
  "language_info": {
   "codemirror_mode": {
    "name": "ipython",
    "version": 3
   },
   "file_extension": ".py",
   "mimetype": "text/x-python",
   "name": "python",
   "nbconvert_exporter": "python",
   "pygments_lexer": "ipython3",
   "version": "3.7.1"
  }
 },
 "nbformat": 4,
 "nbformat_minor": 2
}
